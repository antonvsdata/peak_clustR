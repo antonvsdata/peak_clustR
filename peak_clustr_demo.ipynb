{
 "cells": [
  {
   "cell_type": "markdown",
   "metadata": {},
   "source": [
    "First, let's load all the necessary libraries:"
   ]
  },
  {
   "cell_type": "code",
   "execution_count": 1,
   "metadata": {},
   "outputs": [
    {
     "name": "stderr",
     "output_type": "stream",
     "text": [
      "Warning message:\n",
      "“package ‘openxlsx’ was built under R version 3.4.4”Warning message:\n",
      "“package ‘ggplot2’ was built under R version 3.4.4”Warning message:\n",
      "“package ‘ggrepel’ was built under R version 3.4.4”"
     ]
    }
   ],
   "source": [
    "library(openxlsx)\n",
    "library(ggplot2)\n",
    "library(ggrepel)"
   ]
  },
  {
   "cell_type": "markdown",
   "metadata": {},
   "source": [
    "Loading the functions:"
   ]
  },
  {
   "cell_type": "code",
   "execution_count": 3,
   "metadata": {},
   "outputs": [],
   "source": [
    "source('functions.R')\n",
    "source(\"visualizations.R\")"
   ]
  },
  {
   "cell_type": "markdown",
   "metadata": {},
   "source": [
    "Next we'll read the peak information and intensities from the provided Excel file:"
   ]
  },
  {
   "cell_type": "code",
   "execution_count": 4,
   "metadata": {},
   "outputs": [
    {
     "ename": "ERROR",
     "evalue": "Error in read.xlsx.default(\"HILIC_NEG_TEST.xlsx\", sheet = 1): File does not exist.\n",
     "output_type": "error",
     "traceback": [
      "Error in read.xlsx.default(\"HILIC_NEG_TEST.xlsx\", sheet = 1): File does not exist.\nTraceback:\n",
      "1. read.xlsx(\"HILIC_NEG_TEST.xlsx\", sheet = 1)",
      "2. read.xlsx.default(\"HILIC_NEG_TEST.xlsx\", sheet = 1)",
      "3. stop(\"File does not exist.\")"
     ]
    }
   ],
   "source": [
    "X <- read.xlsx(\"HILIC_NEG_TEST.xlsx\", sheet = 1)\n",
    "P <- read.xlsx(\"HILIC_NEG_TEST.xlsx\", sheet = 2)\n",
    "\n",
    "# compute the median peak area for each feature, used in visualizations\n",
    "P$MPA <- sapply(X[P$Name], median, na.rm = TRUE)"
   ]
  },
  {
   "cell_type": "markdown",
   "metadata": {},
   "source": [
    "This function finds connections between features according to set conditions: correlation threshhold and retention time window. If two features have a Pearson correlation coefficient above the set threshold and their retention times differ less than the set window, they are deemed connected.\n",
    "\n",
    "The function returns a data frame with one row per connection, with the following columns:\n",
    "- x & y: the names of the features\n",
    "- cor: the pearson correlation coefficient\n",
    "- mz_diff: the mass difference between the features\n",
    "- rt_diff: the retention time difference between the features"
   ]
  },
  {
   "cell_type": "code",
   "execution_count": null,
   "metadata": {},
   "outputs": [],
   "source": [
    "conn <- find_connections(data = X, features = P, corr_thresh = 0.85, rt_window = 1/60, name_col = \"Name\", mz_col = \"mz\", rt_col = \"rt\")"
   ]
  },
  {
   "cell_type": "markdown",
   "metadata": {},
   "source": [
    "The next part is where the actual ~~magic~~ science happens. The algorithm first constructs a network of the connected features, then starts stripping down the connected components of the network until we are left with densely connected clusters. The threshold for the relative degree can be set by the user. For example, using a degree threshold of 0.8 means that all the features in a cluster need to be connected with 80% of the other features of the cluster."
   ]
  },
  {
   "cell_type": "code",
   "execution_count": null,
   "metadata": {},
   "outputs": [],
   "source": [
    "clusters <- find_clusters(conn)"
   ]
  },
  {
   "cell_type": "markdown",
   "metadata": {},
   "source": [
    "The resulting list has one element per cluster, each containing a character vector of feature names and an igraph object of the cluster graph. The graph object is useful for plotting"
   ]
  },
  {
   "cell_type": "markdown",
   "metadata": {},
   "source": [
    "Now that we know which features are clustered together we can create modified versions of the original intensity and feature information data frames. "
   ]
  },
  {
   "cell_type": "code",
   "execution_count": null,
   "metadata": {},
   "outputs": [],
   "source": [
    "pulled <- pull_features(clusters, data= X, features = P, name_col = \"Name\")\n",
    "cdata <- pulled$cdata\n",
    "cpeaks <- pulled$cfeatures"
   ]
  },
  {
   "cell_type": "markdown",
   "metadata": {},
   "source": [
    "The follwowing function will then save the modified data frames as separate sheet to the given Excel spreadsheet file."
   ]
  },
  {
   "cell_type": "code",
   "execution_count": null,
   "metadata": {},
   "outputs": [],
   "source": [
    "multisheet_xlsx(dfs = pulled, filename = \"HILIC_NEG_output2.xlsx\")"
   ]
  },
  {
   "cell_type": "markdown",
   "metadata": {},
   "source": [
    "#### Visualizations\n",
    "\n",
    "Let's pick a cluster and take a closer look at it:"
   ]
  },
  {
   "cell_type": "code",
   "execution_count": null,
   "metadata": {},
   "outputs": [],
   "source": [
    "cluster <- clusters[[2]]\n",
    "cluster$features"
   ]
  },
  {
   "cell_type": "markdown",
   "metadata": {},
   "source": [
    "The cluster seems to have X features. We can also visualize the relationship between the fetures:"
   ]
  },
  {
   "cell_type": "code",
   "execution_count": null,
   "metadata": {},
   "outputs": [],
   "source": [
    "plot_graph(features = P, cluster, name_col = \"Name\",\n",
    "             mz_col = \"mz\", rt_col = \"rt\")"
   ]
  },
  {
   "cell_type": "code",
   "execution_count": null,
   "metadata": {},
   "outputs": [],
   "source": [
    "plot_features(P, cluster, name_col = \"Name\", mz_col = \"mz\", rt_col = \"rt\", rt_window = 1/60)"
   ]
  },
  {
   "cell_type": "code",
   "execution_count": null,
   "metadata": {},
   "outputs": [],
   "source": [
    "plot_heatmaps(data = X, features = P, name_col = \"Name\", mz_col = \"mz\", rt_col = \"rt\")"
   ]
  },
  {
   "cell_type": "code",
   "execution_count": null,
   "metadata": {},
   "outputs": [],
   "source": []
  },
  {
   "cell_type": "code",
   "execution_count": null,
   "metadata": {},
   "outputs": [],
   "source": []
  },
  {
   "cell_type": "code",
   "execution_count": null,
   "metadata": {},
   "outputs": [],
   "source": []
  }
 ],
 "metadata": {
  "kernelspec": {
   "display_name": "R",
   "language": "R",
   "name": "ir"
  },
  "language_info": {
   "codemirror_mode": "r",
   "file_extension": ".r",
   "mimetype": "text/x-r-source",
   "name": "R",
   "pygments_lexer": "r",
   "version": "3.4.3"
  }
 },
 "nbformat": 4,
 "nbformat_minor": 2
}
